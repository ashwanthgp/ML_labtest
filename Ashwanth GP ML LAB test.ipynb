{
  "cells": [
    {
      "cell_type": "code",
      "execution_count": 1,
      "metadata": {
        "id": "m5N0BzT1wbf3"
      },
      "outputs": [],
      "source": [
        "# 2\n",
        "# Question no 2\n",
        "# Ashwanth GP\n",
        "# 3122215001702\n"
      ]
    },
    {
      "cell_type": "code",
      "execution_count": 2,
      "metadata": {
        "id": "F-gjMyj4Gt-V"
      },
      "outputs": [
        {
          "ename": "ModuleNotFoundError",
          "evalue": "No module named 'matplotlib'",
          "output_type": "error",
          "traceback": [
            "\u001b[0;31m---------------------------------------------------------------------------\u001b[0m",
            "\u001b[0;31mModuleNotFoundError\u001b[0m                       Traceback (most recent call last)",
            "Cell \u001b[0;32mIn[2], line 3\u001b[0m\n\u001b[1;32m      1\u001b[0m \u001b[38;5;28;01mimport\u001b[39;00m \u001b[38;5;21;01mpandas\u001b[39;00m \u001b[38;5;28;01mas\u001b[39;00m \u001b[38;5;21;01mpd\u001b[39;00m\n\u001b[1;32m      2\u001b[0m \u001b[38;5;28;01mimport\u001b[39;00m \u001b[38;5;21;01mnumpy\u001b[39;00m \u001b[38;5;28;01mas\u001b[39;00m \u001b[38;5;21;01mnp\u001b[39;00m\n\u001b[0;32m----> 3\u001b[0m \u001b[38;5;28;01mimport\u001b[39;00m \u001b[38;5;21;01mmatplotlib\u001b[39;00m\u001b[38;5;21;01m.\u001b[39;00m\u001b[38;5;21;01mpyplot\u001b[39;00m \u001b[38;5;28;01mas\u001b[39;00m \u001b[38;5;21;01mplt\u001b[39;00m\n\u001b[1;32m      4\u001b[0m \u001b[38;5;28;01mimport\u001b[39;00m \u001b[38;5;21;01mseaborn\u001b[39;00m \u001b[38;5;28;01mas\u001b[39;00m \u001b[38;5;21;01msns\u001b[39;00m\n\u001b[1;32m      5\u001b[0m \u001b[38;5;28;01mimport\u001b[39;00m \u001b[38;5;21;01mrandom\u001b[39;00m\n",
            "\u001b[0;31mModuleNotFoundError\u001b[0m: No module named 'matplotlib'"
          ]
        }
      ],
      "source": [
        "import pandas as pd\n",
        "import numpy as np\n",
        "import matplotlib.pyplot as plt\n",
        "import seaborn as sns\n",
        "import random\n",
        "from sklearn.metrics import accuracy_score,classification_report,confusion_matrix,roc_curve,auc"
      ]
    },
    {
      "cell_type": "code",
      "execution_count": null,
      "metadata": {
        "id": "vJOaUhyewj5P"
      },
      "outputs": [],
      "source": [
        "from sklearn.model_selection import train_test_split\n",
        "from sklearn.preprocessing import StandardScaler\n",
        "from sklearn.linear_model import LogisticRegression, Perceptron\n",
        "from sklearn.neural_network import MLPClassifier\n",
        "from sklearn.neighbors import KNeighborsClassifier\n",
        "from sklearn.svm import SVC\n",
        "from sklearn.naive_bayes import GaussianNB\n",
        "from sklearn.preprocessing import LabelEncoder ,OneHotEncoder\n",
        "from sklearn.metrics import accuracy_score,classification_report,confusion_matrix,roc_curve,auc"
      ]
    },
    {
      "cell_type": "code",
      "execution_count": null,
      "metadata": {
        "colab": {
          "base_uri": "https://localhost:8080/"
        },
        "id": "7F6OWYNlw6MH",
        "outputId": "9a69a2ac-e63f-474b-baa6-d4c55b5be912"
      },
      "outputs": [
        {
          "data": {
            "text/plain": [
              "Index(['Age', 'Family size', 'latitude', 'longitude', 'Pin code',\n",
              "       'Gender_Female', 'Gender_Male', 'Marital Status_Married',\n",
              "       'Marital Status_Prefer not to say', 'Marital Status_Single',\n",
              "       'Occupation_Employee', 'Occupation_House wife',\n",
              "       'Occupation_Self Employeed', 'Occupation_Student',\n",
              "       'Monthly Income_10001 to 25000', 'Monthly Income_25001 to 50000',\n",
              "       'Monthly Income_Below Rs.10000', 'Monthly Income_More than 50000',\n",
              "       'Monthly Income_No Income', 'Educational Qualifications_Graduate',\n",
              "       'Educational Qualifications_Ph.D',\n",
              "       'Educational Qualifications_Post Graduate',\n",
              "       'Educational Qualifications_School',\n",
              "       'Educational Qualifications_Uneducated', 'Output_No', 'Output_Yes',\n",
              "       'Feedback_Negative ', 'Feedback_Positive', 'Unnamed: 12_No',\n",
              "       'Unnamed: 12_Yes'],\n",
              "      dtype='object')"
            ]
          },
          "execution_count": 22,
          "metadata": {},
          "output_type": "execute_result"
        }
      ],
      "source": [
        "df=pd.read_csv(\"/content/sample_data/onlinefoods.csv\")\n",
        "df_encoded = pd.get_dummies(df)\n",
        "\n",
        "df_encoded\n",
        "df_encoded.columns"
      ]
    },
    {
      "cell_type": "code",
      "execution_count": null,
      "metadata": {
        "id": "nA0TMHPD8K1p"
      },
      "outputs": [],
      "source": [
        "df['Marital Status'].replace({\"Single\":0},inplace=True)\n",
        "df['Marital Status'].replace({\"Married\":1},inplace=True)\n",
        "df['Marital Status'].replace({\"Prefer not to say\":None},inplace=True)"
      ]
    },
    {
      "cell_type": "code",
      "execution_count": null,
      "metadata": {
        "id": "MxyQXdrW8W0k"
      },
      "outputs": [],
      "source": [
        "df[\"Monthly Income\"].replace({\"No Income\":0},inplace=True)\n",
        "df[\"Monthly Income\"].replace({\"Below Rs.10000\":5000},inplace=True) # median of income in this range\n",
        "df[\"Monthly Income\"].replace({\"10001 to 25000\":17500},inplace=True) # median of income in this range\n",
        "df[\"Monthly Income\"].replace({\"25001 to 50000\":37500},inplace=True) # median of income in this range\n",
        "df[\"Monthly Income\"].replace({\"More than 50000\":50000},inplace=True)"
      ]
    },
    {
      "cell_type": "code",
      "execution_count": null,
      "metadata": {
        "id": "CqbAH9J38igK"
      },
      "outputs": [],
      "source": [
        "df[\"Educational Qualifications\"].replace({\"Uneducated\":0},inplace=True)\n",
        "df[\"Educational Qualifications\"].replace({\"School\":1},inplace=True)\n",
        "df[\"Educational Qualifications\"].replace({\"Graduate\":2},inplace=True)\n",
        "df[\"Educational Qualifications\"].replace({\"Post Graduate\":3},inplace=True)\n",
        "df[\"Educational Qualifications\"].replace({\"Ph.D\":4},inplace=True)"
      ]
    },
    {
      "cell_type": "code",
      "execution_count": null,
      "metadata": {
        "id": "SmyN5jqq8q_X"
      },
      "outputs": [],
      "source": [
        "df['Gender'] = LabelEncoder().fit_transform(df['Gender'])\n",
        "df['Output'] = LabelEncoder().fit_transform(df['Output'])\n",
        "df['Feedback'] = LabelEncoder().fit_transform(df['Feedback'])"
      ]
    },
    {
      "cell_type": "code",
      "execution_count": null,
      "metadata": {
        "id": "V27K0ooP9Igt"
      },
      "outputs": [],
      "source": [
        "df.loc[df[\"Occupation\"] == \"Student\"         ,\"is working\"] = 0\n",
        "df.loc[df[\"Occupation\"] == \"Self Employeed\"  ,\"is working\"] = 1\n",
        "df.loc[df[\"Occupation\"] == \"Employee\"        ,\"is working\"] = 1\n",
        "df.loc[df[\"Occupation\"] == \"House wife\"      ,\"is working\"] = 0"
      ]
    },
    {
      "cell_type": "code",
      "execution_count": null,
      "metadata": {
        "id": "pcvFWIAz9TdH"
      },
      "outputs": [],
      "source": [
        "one_enc_df = pd.DataFrame(OneHotEncoder().fit_transform(pd.DataFrame(df[\"Occupation\"])).toarray())\n",
        "df = pd.concat([df,one_enc_df],axis=1)\n"
      ]
    },
    {
      "cell_type": "code",
      "execution_count": null,
      "metadata": {
        "id": "rb2ygCGD96u4"
      },
      "outputs": [],
      "source": [
        "df.rename(columns={\n",
        "                     1:\"is House wife\",\n",
        "                     0:\"is Employee\",\n",
        "                     2:\"is Self Employeed\",\n",
        "                     3:\"is Student\"} ,inplace=True)"
      ]
    },
    {
      "cell_type": "code",
      "execution_count": null,
      "metadata": {
        "id": "HPoEeqO8_qEf"
      },
      "outputs": [],
      "source": [
        "df.drop(\"Unnamed: 12\",axis=1,inplace=True)"
      ]
    },
    {
      "cell_type": "code",
      "execution_count": null,
      "metadata": {
        "id": "2mkI-X_D-AsW"
      },
      "outputs": [],
      "source": [
        "df.drop(columns=[\"Occupation\"],inplace=True)\n"
      ]
    },
    {
      "cell_type": "code",
      "execution_count": null,
      "metadata": {
        "id": "5WbDpTw8AcBF"
      },
      "outputs": [],
      "source": [
        "df['Marital Status'].fillna(random.randint(0,1),inplace=True)"
      ]
    },
    {
      "cell_type": "code",
      "execution_count": null,
      "metadata": {
        "colab": {
          "base_uri": "https://localhost:8080/"
        },
        "id": "lUMrwvbg-n2U",
        "outputId": "30181d0a-6a6e-46f3-8e26-cef99755725d"
      },
      "outputs": [
        {
          "name": "stdout",
          "output_type": "stream",
          "text": [
            "     Age  Gender  Marital Status  Monthly Income  Educational Qualifications  \\\n",
            "0     20       0               0               0                           3   \n",
            "1     24       0               0            5000                           2   \n",
            "2     22       1               0            5000                           3   \n",
            "3     22       0               0               0                           2   \n",
            "4     22       1               0            5000                           3   \n",
            "..   ...     ...             ...             ...                         ...   \n",
            "383   23       0               0               0                           3   \n",
            "384   23       0               0               0                           3   \n",
            "385   22       0               0               0                           3   \n",
            "386   23       1               0            5000                           3   \n",
            "387   23       1               0               0                           3   \n",
            "\n",
            "     Family size  latitude  longitude  Pin code  Output  Feedback  is working  \\\n",
            "0              4   12.9766    77.5993    560001       1         1         0.0   \n",
            "1              3   12.9770    77.5773    560009       1         1         0.0   \n",
            "2              3   12.9551    77.6593    560017       1         0         0.0   \n",
            "3              6   12.9473    77.5616    560019       1         1         0.0   \n",
            "4              4   12.9850    77.5533    560010       1         1         0.0   \n",
            "..           ...       ...        ...       ...     ...       ...         ...   \n",
            "383            2   12.9766    77.5993    560001       1         1         0.0   \n",
            "384            4   12.9854    77.7081    560048       1         1         0.0   \n",
            "385            5   12.9850    77.5533    560010       1         1         0.0   \n",
            "386            2   12.9770    77.5773    560009       1         1         0.0   \n",
            "387            5   12.8988    77.5764    560078       1         1         0.0   \n",
            "\n",
            "     is Employee  is House wife  is Self Employeed  is Student  \n",
            "0            0.0            0.0                0.0         1.0  \n",
            "1            0.0            0.0                0.0         1.0  \n",
            "2            0.0            0.0                0.0         1.0  \n",
            "3            0.0            0.0                0.0         1.0  \n",
            "4            0.0            0.0                0.0         1.0  \n",
            "..           ...            ...                ...         ...  \n",
            "383          0.0            0.0                0.0         1.0  \n",
            "384          0.0            0.0                0.0         1.0  \n",
            "385          0.0            0.0                0.0         1.0  \n",
            "386          0.0            0.0                0.0         1.0  \n",
            "387          0.0            0.0                0.0         1.0  \n",
            "\n",
            "[388 rows x 16 columns]\n"
          ]
        }
      ],
      "source": [
        "print(df)"
      ]
    },
    {
      "cell_type": "code",
      "execution_count": null,
      "metadata": {
        "colab": {
          "base_uri": "https://localhost:8080/",
          "height": 619
        },
        "id": "OVfpFQ4I-PMq",
        "outputId": "c2f2f9ab-427d-401d-e189-959a5b2146f2"
      },
      "outputs": [
        {
          "data": {
            "image/png": "[encoded data removed]",
            "text/plain": [
              "<Figure size 640x480 with 2 Axes>"
            ]
          },
          "metadata": {},
          "output_type": "display_data"
        },
        {
          "data": {
            "text/plain": [
              "<Figure size 1000x800 with 0 Axes>"
            ]
          },
          "metadata": {},
          "output_type": "display_data"
        }
      ],
      "source": [
        "sns.heatmap(df.corr(),annot=False,cmap='viridis')\n",
        "plt.figure(figsize=(10,8))\n",
        "plt.show()"
      ]
    },
    {
      "cell_type": "code",
      "execution_count": null,
      "metadata": {
        "id": "uBXFptKpG2wl"
      },
      "outputs": [],
      "source": [
        "#sns.pairplot(df)"
      ]
    },
    {
      "cell_type": "code",
      "execution_count": null,
      "metadata": {
        "id": "Gcftdtc3zlt7"
      },
      "outputs": [],
      "source": [
        "x=df[df.drop('Monthly Income',axis=1).columns]\n",
        "y=df['Monthly Income']\n",
        "xtrain,xtest,ytrain,ytest=train_test_split(x,y,test_size=0.3,random_state=42)"
      ]
    },
    {
      "cell_type": "code",
      "execution_count": null,
      "metadata": {
        "colab": {
          "base_uri": "https://localhost:8080/"
        },
        "id": "ZZrpgFCnz3n3",
        "outputId": "a3ddfc83-7bde-430c-f87c-d131ae145e6e"
      },
      "outputs": [
        {
          "name": "stdout",
          "output_type": "stream",
          "text": [
            "     Age  Gender  Marital Status  Educational Qualifications  Family size  \\\n",
            "0     20       0               0                           3            4   \n",
            "1     24       0               0                           2            3   \n",
            "2     22       1               0                           3            3   \n",
            "3     22       0               0                           2            6   \n",
            "4     22       1               0                           3            4   \n",
            "..   ...     ...             ...                         ...          ...   \n",
            "383   23       0               0                           3            2   \n",
            "384   23       0               0                           3            4   \n",
            "385   22       0               0                           3            5   \n",
            "386   23       1               0                           3            2   \n",
            "387   23       1               0                           3            5   \n",
            "\n",
            "     latitude  longitude  Pin code  Output  Feedback  is working  is Employee  \\\n",
            "0     12.9766    77.5993    560001       1         1         0.0          0.0   \n",
            "1     12.9770    77.5773    560009       1         1         0.0          0.0   \n",
            "2     12.9551    77.6593    560017       1         0         0.0          0.0   \n",
            "3     12.9473    77.5616    560019       1         1         0.0          0.0   \n",
            "4     12.9850    77.5533    560010       1         1         0.0          0.0   \n",
            "..        ...        ...       ...     ...       ...         ...          ...   \n",
            "383   12.9766    77.5993    560001       1         1         0.0          0.0   \n",
            "384   12.9854    77.7081    560048       1         1         0.0          0.0   \n",
            "385   12.9850    77.5533    560010       1         1         0.0          0.0   \n",
            "386   12.9770    77.5773    560009       1         1         0.0          0.0   \n",
            "387   12.8988    77.5764    560078       1         1         0.0          0.0   \n",
            "\n",
            "     is House wife  is Self Employeed  is Student  \n",
            "0              0.0                0.0         1.0  \n",
            "1              0.0                0.0         1.0  \n",
            "2              0.0                0.0         1.0  \n",
            "3              0.0                0.0         1.0  \n",
            "4              0.0                0.0         1.0  \n",
            "..             ...                ...         ...  \n",
            "383            0.0                0.0         1.0  \n",
            "384            0.0                0.0         1.0  \n",
            "385            0.0                0.0         1.0  \n",
            "386            0.0                0.0         1.0  \n",
            "387            0.0                0.0         1.0  \n",
            "\n",
            "[388 rows x 15 columns]\n",
            "0         0\n",
            "1      5000\n",
            "2      5000\n",
            "3         0\n",
            "4      5000\n",
            "       ... \n",
            "383       0\n",
            "384       0\n",
            "385       0\n",
            "386    5000\n",
            "387       0\n",
            "Name: Monthly Income, Length: 388, dtype: int64\n"
          ]
        }
      ],
      "source": [
        "print(x)\n",
        "print(y)"
      ]
    },
    {
      "cell_type": "code",
      "execution_count": null,
      "metadata": {
        "id": "4cwSGIP53TRI"
      },
      "outputs": [],
      "source": [
        "#SVM"
      ]
    },
    {
      "cell_type": "code",
      "execution_count": null,
      "metadata": {
        "id": "j5ccKSTK3UsH"
      },
      "outputs": [],
      "source": [
        "model=SVC(kernel='rbf',C=100,random_state=0,gamma=0.01)\n",
        "model.fit(xtrain,ytrain)\n",
        "y_pred = model.predict(xtest)"
      ]
    },
    {
      "cell_type": "code",
      "execution_count": null,
      "metadata": {
        "colab": {
          "base_uri": "https://localhost:8080/"
        },
        "id": "D720KteCA49m",
        "outputId": "991f6b6d-2a03-4ba8-e8df-b6e9d95ea65a"
      },
      "outputs": [
        {
          "name": "stdout",
          "output_type": "stream",
          "text": [
            "0.6837606837606838\n"
          ]
        }
      ],
      "source": [
        "print(accuracy_score(ytest,y_pred))"
      ]
    },
    {
      "cell_type": "code",
      "execution_count": null,
      "metadata": {
        "id": "cT2OdGAH6He5"
      },
      "outputs": [],
      "source": [
        "#GNN"
      ]
    },
    {
      "cell_type": "code",
      "execution_count": null,
      "metadata": {
        "id": "J_avDm3k6LhK"
      },
      "outputs": [],
      "source": [
        "model=GaussianNB()\n",
        "model.fit(xtrain,ytrain)\n",
        "X_1=model.predict(xtest)"
      ]
    },
    {
      "cell_type": "code",
      "execution_count": null,
      "metadata": {
        "colab": {
          "base_uri": "https://localhost:8080/"
        },
        "id": "tANRDpb2B8U4",
        "outputId": "d57e5cc8-e5bd-48eb-9641-d0af4d6bf1d8"
      },
      "outputs": [
        {
          "name": "stdout",
          "output_type": "stream",
          "text": [
            "0.7008547008547008\n"
          ]
        }
      ],
      "source": [
        "print(accuracy_score(ytest,X_1))"
      ]
    },
    {
      "cell_type": "code",
      "execution_count": null,
      "metadata": {
        "colab": {
          "base_uri": "https://localhost:8080/",
          "height": 564
        },
        "id": "DOBjBotZIQm2",
        "outputId": "36aef21f-f0e5-4ed7-bc57-508b1f972026"
      },
      "outputs": [
        {
          "data": {
            "image/png": "[encoded data removed]",
            "text/plain": [
              "<Figure size 800x600 with 2 Axes>"
            ]
          },
          "metadata": {},
          "output_type": "display_data"
        }
      ],
      "source": [
        "conf_matrix = confusion_matrix(ytest, X_1)\n",
        "plt.figure(figsize=(8, 6))\n",
        "sns.heatmap(conf_matrix, annot=True, fmt=\"d\", cmap=\"viridis\")\n",
        "plt.xlabel(\"Predicted\")\n",
        "plt.ylabel(\"Actual\")\n",
        "plt.title(\"Confusion Matrix\")\n",
        "plt.show()"
      ]
    },
    {
      "cell_type": "code",
      "execution_count": null,
      "metadata": {
        "id": "bJrzSVE-Cr3L"
      },
      "outputs": [],
      "source": [
        "#KNN\n",
        "def applyKNN(x_train,y_train,x_test,metric_p):\n",
        "  knn = KNeighborsClassifier(n_neighbors = 5,metric = metric_p)\n",
        "  knn.fit(x_train,y_train)\n",
        "  y_pred = knn.predict(x_test)\n",
        "  return y_pred\n",
        "def apply_metrics(y_test,y_pred,metric_name):\n",
        "  print(metric_name.upper())\n",
        "  print(\"Predicted y_pred:- \\n\")\n",
        "  print(y_pred)\n",
        "  accuracy = accuracy_score(y_test, y_pred)\n",
        "  print(\"Accuracy:\", accuracy)\n",
        "  print(\"Classification report:- \\n\",classification_report(y_test,y_pred))\n",
        "  print(\"Confusion matrix :- \\n\",confusion_matrix(y_pred,y_test))\n",
        "\n"
      ]
    },
    {
      "cell_type": "code",
      "execution_count": null,
      "metadata": {
        "colab": {
          "base_uri": "https://localhost:8080/"
        },
        "id": "aEcPeMYLDlwP",
        "outputId": "4704fabc-a6c8-4ca7-fb4e-43db6f0c691f"
      },
      "outputs": [
        {
          "name": "stdout",
          "output_type": "stream",
          "text": [
            "MANHATTAN\n",
            "Predicted y_pred:- \n",
            "\n",
            "[17500     0     0     0 37500     0     0     0 50000 37500 37500     0\n",
            " 50000     0     0     0     0 37500     0     0     0     0     0     0\n",
            "     0     0     0     0     0 17500     0     0 17500  5000     0 17500\n",
            "     0     0     0     0     0  5000 17500     0     0 37500     0     0\n",
            " 17500 37500     0 37500     0     0     0     0     0     0 37500 50000\n",
            " 37500 50000 17500 17500     0 37500 50000 37500     0     0 50000     0\n",
            "  5000     0     0     0 37500 50000     0 37500     0     0 17500     0\n",
            " 37500 50000     0 50000     0 50000 37500     0     0     0 50000 17500\n",
            " 50000 37500     0     0     0 37500 17500 37500 17500 17500     0 37500\n",
            "     0     0 37500 50000     0 37500     0     0     0]\n",
            "Accuracy: 0.5982905982905983\n",
            "Classification report:- \n",
            "               precision    recall  f1-score   support\n",
            "\n",
            "           0       0.81      0.90      0.85        60\n",
            "        5000       0.00      0.00      0.00         6\n",
            "       17500       0.08      0.08      0.08        13\n",
            "       37500       0.48      0.48      0.48        21\n",
            "       50000       0.38      0.29      0.33        17\n",
            "\n",
            "    accuracy                           0.60       117\n",
            "   macro avg       0.35      0.35      0.35       117\n",
            "weighted avg       0.56      0.60      0.58       117\n",
            "\n",
            "Confusion matrix :- \n",
            " [[54  4  5  2  2]\n",
            " [ 3  0  0  0  0]\n",
            " [ 0  1  1  6  5]\n",
            " [ 2  1  3 10  5]\n",
            " [ 1  0  4  3  5]]\n"
          ]
        }
      ],
      "source": [
        "vals = applyKNN(xtrain,ytrain,xtest,'manhattan')\n",
        "apply_metrics(ytest,vals,'manhattan')\n",
        "#plotROC(ytest,vals) #Does not work for multi-class problems ,Roc curve can perform only with 2 classes"
      ]
    },
    {
      "cell_type": "code",
      "execution_count": null,
      "metadata": {
        "id": "wICa68sWE1_I"
      },
      "outputs": [],
      "source": [
        "#Logistic Regression\n",
        "model=LogisticRegression()\n",
        "model.fit(xtrain,ytrain)\n",
        "X_1=model.predict(xtest)"
      ]
    },
    {
      "cell_type": "code",
      "execution_count": null,
      "metadata": {
        "colab": {
          "base_uri": "https://localhost:8080/"
        },
        "id": "SzSeqDPzFfnQ",
        "outputId": "0d0ab42a-a6af-4a34-d137-a31e2fd37c98"
      },
      "outputs": [
        {
          "name": "stdout",
          "output_type": "stream",
          "text": [
            "0.5128205128205128\n"
          ]
        }
      ],
      "source": [
        "print(accuracy_score(ytest,X_1))"
      ]
    },
    {
      "cell_type": "code",
      "execution_count": null,
      "metadata": {
        "id": "sLsEC_eFFhI5"
      },
      "outputs": [],
      "source": [
        "#Perceptron Learning Algorithm\n",
        "model=Perceptron()\n",
        "model.fit(xtrain,ytrain)\n",
        "X_1=model.predict(xtest)"
      ]
    },
    {
      "cell_type": "code",
      "execution_count": null,
      "metadata": {
        "colab": {
          "base_uri": "https://localhost:8080/"
        },
        "id": "rJ4fCHYrFy3e",
        "outputId": "4363a8e0-d713-40e0-f587-2cfa12abfe81"
      },
      "outputs": [
        {
          "name": "stdout",
          "output_type": "stream",
          "text": [
            "0.1794871794871795\n"
          ]
        }
      ],
      "source": [
        "print(accuracy_score(ytest,X_1))"
      ]
    },
    {
      "cell_type": "code",
      "execution_count": null,
      "metadata": {
        "id": "oAaZjEbyGIqQ"
      },
      "outputs": [],
      "source": [
        "#Multi Layer Perceptron"
      ]
    },
    {
      "cell_type": "code",
      "execution_count": null,
      "metadata": {
        "id": "YwYWCTU_GMUx"
      },
      "outputs": [],
      "source": [
        "model = MLPClassifier(hidden_layer_sizes=(100, 50), activation='relu', solver='adam', learning_rate='adaptive', alpha=0.0001, batch_size=32)\n",
        "\n",
        "model.fit(xtrain,ytrain)\n",
        "X_1=model.predict(xtest)"
      ]
    },
    {
      "cell_type": "code",
      "execution_count": null,
      "metadata": {
        "colab": {
          "base_uri": "https://localhost:8080/"
        },
        "id": "D3lefQeQGBuQ",
        "outputId": "ed93efcb-489c-45b6-c155-823955ba29e5"
      },
      "outputs": [
        {
          "name": "stdout",
          "output_type": "stream",
          "text": [
            "0.5128205128205128\n"
          ]
        }
      ],
      "source": [
        "print(accuracy_score(ytest,X_1))"
      ]
    },
    {
      "cell_type": "code",
      "execution_count": null,
      "metadata": {},
      "outputs": [],
      "source": [
        "'''\n",
        "Inference:\n",
        "    Gaussian Naive Bayes performs with the best accuracy of 70%\n",
        "    \n",
        "'''"
      ]
    },
    {
      "cell_type": "code",
      "execution_count": null,
      "metadata": {},
      "outputs": [],
      "source": []
    }
  ],
  "metadata": {
    "colab": {
      "provenance": []
    },
    "kernelspec": {
      "display_name": "Python 3",
      "name": "python3"
    },
    "language_info": {
      "codemirror_mode": {
        "name": "ipython",
        "version": 3
      },
      "file_extension": ".py",
      "mimetype": "text/x-python",
      "name": "python",
      "nbconvert_exporter": "python",
      "pygments_lexer": "ipython3",
      "version": "3.8.10"
    }
  },
  "nbformat": 4,
  "nbformat_minor": 0
}
